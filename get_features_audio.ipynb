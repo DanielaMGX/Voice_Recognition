{
 "cells": [
  {
   "cell_type": "code",
   "execution_count": 26,
   "metadata": {},
   "outputs": [],
   "source": [
    "import IPython\n",
    "import matplotlib.pyplot as plt\n",
    "from matplotlib.backend_bases import RendererBase\n",
    "from scipy import signal\n",
    "from scipy.io import wavfile\n",
    "#import soundfile as sf\n",
    "import os\n",
    "import numpy as np\n",
    "from PIL import Image\n",
    "from scipy.fftpack import fft\n",
    "\n",
    "%matplotlib inline"
   ]
  },
  {
   "cell_type": "code",
   "execution_count": 27,
   "metadata": {},
   "outputs": [],
   "source": [
    "def readAudios(path):    \n",
    "    samplerate, data = wavfile.read(path)\n",
    "    return samplerate, data"
   ]
  },
  {
   "cell_type": "code",
   "execution_count": 28,
   "metadata": {},
   "outputs": [],
   "source": [
    "def log_specgram(data, sample_rate, window_size=20,\n",
    "                 step_size=10, eps=1e-10):\n",
    "    nperseg = int(round(window_size * sample_rate / 1e3))\n",
    "    noverlap = int(round(step_size * sample_rate / 1e3))\n",
    "    #t Array of segment times.\n",
    "    freqs,t, spec = signal.spectrogram(data,\n",
    "                                    fs=sample_rate,\n",
    "                                    window='hann',\n",
    "                                    nperseg=nperseg,\n",
    "                                    noverlap=noverlap,\n",
    "                                    detrend=False)\n",
    "    return freqs, np.log(spec.T.astype(np.float32) + eps)"
   ]
  },
  {
   "cell_type": "code",
   "execution_count": 134,
   "metadata": {},
   "outputs": [],
   "source": [
    "def split_blocks(num_rows, num_columns, spectogram):\n",
    "    features = np.zeros((1,num_columns*num_rows))\n",
    "    featuresColumns = np.split(spectogram,[num_columns])\n",
    "    print(spectogram.shape)\n",
    "    print(len(featuresColumns))\n",
    "    \n",
    "    return features #fila con el numero carácteristicas con la media y std"
   ]
  },
  {
   "cell_type": "code",
   "execution_count": 135,
   "metadata": {},
   "outputs": [],
   "source": [
    "def get_features_audio(path, num_rows, num_columns):\n",
    "    sample_rate, data = readAudios(path)\n",
    "    freqs, spectogram = log_specgram(data, sample_rate)\n",
    "    features = split_blocks(num_rows, num_columns, spectogram)\n",
    "    return features\n",
    "    "
   ]
  },
  {
   "cell_type": "code",
   "execution_count": 136,
   "metadata": {},
   "outputs": [
    {
     "name": "stdout",
     "output_type": "stream",
     "text": [
      "Tracks (97, 161)\n"
     ]
    }
   ],
   "source": [
    "tracks = [\"./data/five/0ab3b47d_nohash_2.wav\"]\n",
    "for track in tracks:\n",
    "    sample_rate, data = readAudios(track)\n",
    "    freqs, spectogram = log_specgram(data, sample_rate)\n",
    "    print(\"Tracks\", spectogram.shape)"
   ]
  },
  {
   "cell_type": "code",
   "execution_count": 137,
   "metadata": {},
   "outputs": [
    {
     "name": "stdout",
     "output_type": "stream",
     "text": [
      "(97, 161)\n",
      "2\n"
     ]
    }
   ],
   "source": [
    "PATHTEST = 'data/five/0ab3b47d_nohash_2.wav'\n",
    "features = get_features_audio(PATHTEST, 11, 10)"
   ]
  },
  {
   "cell_type": "code",
   "execution_count": 188,
   "metadata": {},
   "outputs": [
    {
     "name": "stdout",
     "output_type": "stream",
     "text": [
      "[[0.71096682 0.07231027 0.90290341 0.62542233 0.05366777 0.41758983\n",
      "  0.81687336 0.15247327]\n",
      " [0.97607457 0.11677768 0.81343153 0.79816125 0.40826438 0.9856675\n",
      "  0.18880665 0.90076519]\n",
      " [0.58426995 0.34821676 0.7890315  0.36648196 0.28959879 0.8553422\n",
      "  0.60283002 0.5504184 ]\n",
      " [0.55978968 0.69940713 0.73938872 0.54936189 0.72237283 0.08198761\n",
      "  0.41141505 0.48293277]\n",
      " [0.02273282 0.28731531 0.24518015 0.62040575 0.15561607 0.06504337\n",
      "  0.31790538 0.50111498]\n",
      " [0.60967556 0.35912992 0.91415837 0.10646915 0.63334437 0.18112143\n",
      "  0.2374673  0.57108068]\n",
      " [0.65736593 0.01556756 0.61028714 0.06499557 0.72872896 0.11605168\n",
      "  0.99109185 0.19070447]\n",
      " [0.04234847 0.84370434 0.15943228 0.17428087 0.95359216 0.48627804\n",
      "  0.38727121 0.58517914]\n",
      " [0.0902191  0.53283406 0.76566925 0.64745616 0.24525163 0.34693743\n",
      "  0.43737524 0.16203107]]\n",
      "[array([[0.71096682, 0.07231027, 0.90290341],\n",
      "       [0.97607457, 0.11677768, 0.81343153],\n",
      "       [0.58426995, 0.34821676, 0.7890315 ],\n",
      "       [0.55978968, 0.69940713, 0.73938872],\n",
      "       [0.02273282, 0.28731531, 0.24518015],\n",
      "       [0.60967556, 0.35912992, 0.91415837],\n",
      "       [0.65736593, 0.01556756, 0.61028714],\n",
      "       [0.04234847, 0.84370434, 0.15943228],\n",
      "       [0.0902191 , 0.53283406, 0.76566925]]), array([[0.62542233, 0.05366777, 0.41758983],\n",
      "       [0.79816125, 0.40826438, 0.9856675 ],\n",
      "       [0.36648196, 0.28959879, 0.8553422 ],\n",
      "       [0.54936189, 0.72237283, 0.08198761],\n",
      "       [0.62040575, 0.15561607, 0.06504337],\n",
      "       [0.10646915, 0.63334437, 0.18112143],\n",
      "       [0.06499557, 0.72872896, 0.11605168],\n",
      "       [0.17428087, 0.95359216, 0.48627804],\n",
      "       [0.64745616, 0.24525163, 0.34693743]]), array([[0.81687336, 0.15247327],\n",
      "       [0.18880665, 0.90076519],\n",
      "       [0.60283002, 0.5504184 ],\n",
      "       [0.41141505, 0.48293277],\n",
      "       [0.31790538, 0.50111498],\n",
      "       [0.2374673 , 0.57108068],\n",
      "       [0.99109185, 0.19070447],\n",
      "       [0.38727121, 0.58517914],\n",
      "       [0.43737524, 0.16203107]])]\n",
      "[array([[0.71096682],\n",
      "       [0.97607457],\n",
      "       [0.58426995],\n",
      "       [0.55978968],\n",
      "       [0.02273282],\n",
      "       [0.60967556],\n",
      "       [0.65736593],\n",
      "       [0.04234847],\n",
      "       [0.0902191 ]]), array([[0.07231027],\n",
      "       [0.11677768],\n",
      "       [0.34821676],\n",
      "       [0.69940713],\n",
      "       [0.28731531],\n",
      "       [0.35912992],\n",
      "       [0.01556756],\n",
      "       [0.84370434],\n",
      "       [0.53283406]]), array([[0.90290341],\n",
      "       [0.81343153],\n",
      "       [0.7890315 ],\n",
      "       [0.73938872],\n",
      "       [0.24518015],\n",
      "       [0.91415837],\n",
      "       [0.61028714],\n",
      "       [0.15943228],\n",
      "       [0.76566925]]), array([], shape=(9, 0), dtype=float64)]\n",
      "[array([[0.62542233],\n",
      "       [0.79816125],\n",
      "       [0.36648196],\n",
      "       [0.54936189],\n",
      "       [0.62040575],\n",
      "       [0.10646915],\n",
      "       [0.06499557],\n",
      "       [0.17428087],\n",
      "       [0.64745616]]), array([[0.05366777],\n",
      "       [0.40826438],\n",
      "       [0.28959879],\n",
      "       [0.72237283],\n",
      "       [0.15561607],\n",
      "       [0.63334437],\n",
      "       [0.72872896],\n",
      "       [0.95359216],\n",
      "       [0.24525163]]), array([[0.41758983],\n",
      "       [0.9856675 ],\n",
      "       [0.8553422 ],\n",
      "       [0.08198761],\n",
      "       [0.06504337],\n",
      "       [0.18112143],\n",
      "       [0.11605168],\n",
      "       [0.48627804],\n",
      "       [0.34693743]]), array([], shape=(9, 0), dtype=float64)]\n",
      "[array([[0.81687336],\n",
      "       [0.18880665],\n",
      "       [0.60283002],\n",
      "       [0.41141505],\n",
      "       [0.31790538],\n",
      "       [0.2374673 ],\n",
      "       [0.99109185],\n",
      "       [0.38727121],\n",
      "       [0.43737524]]), array([[0.15247327],\n",
      "       [0.90076519],\n",
      "       [0.5504184 ],\n",
      "       [0.48293277],\n",
      "       [0.50111498],\n",
      "       [0.57108068],\n",
      "       [0.19070447],\n",
      "       [0.58517914],\n",
      "       [0.16203107]]), array([], shape=(9, 0), dtype=float64), array([], shape=(9, 0), dtype=float64)]\n"
     ]
    }
   ],
   "source": [
    "x = np.random.rand(9,8)\n",
    "print(x)\n",
    "num_columns =3\n",
    "num_rows =4\n",
    "features = np.zeros((1,num_columns*num_rows))\n",
    "featuresColumns = np.array_split(x, num_columns,1)\n",
    "print(featuresColumns)\n",
    "for i in range(len(featuresColumns)):\n",
    "    featureRow= np.array_split(featuresColumns[i], num_rows,1)\n",
    "    #features.append()\n",
    "    print(featureRow)"
   ]
  },
  {
   "cell_type": "code",
   "execution_count": null,
   "metadata": {},
   "outputs": [],
   "source": []
  }
 ],
 "metadata": {
  "kernelspec": {
   "display_name": "Python 3",
   "language": "python",
   "name": "python3"
  },
  "language_info": {
   "codemirror_mode": {
    "name": "ipython",
    "version": 3
   },
   "file_extension": ".py",
   "mimetype": "text/x-python",
   "name": "python",
   "nbconvert_exporter": "python",
   "pygments_lexer": "ipython3",
   "version": "3.7.3"
  }
 },
 "nbformat": 4,
 "nbformat_minor": 2
}
