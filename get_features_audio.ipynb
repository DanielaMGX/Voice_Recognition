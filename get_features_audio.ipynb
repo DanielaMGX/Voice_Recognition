{
 "cells": [
  {
   "cell_type": "code",
   "execution_count": 26,
   "metadata": {},
   "outputs": [],
   "source": [
    "import IPython\n",
    "import matplotlib.pyplot as plt\n",
    "from matplotlib.backend_bases import RendererBase\n",
    "from scipy import signal\n",
    "from scipy.io import wavfile\n",
    "#import soundfile as sf\n",
    "import os\n",
    "import numpy as np\n",
    "from PIL import Image\n",
    "from scipy.fftpack import fft\n",
    "\n",
    "%matplotlib inline"
   ]
  },
  {
   "cell_type": "code",
   "execution_count": 27,
   "metadata": {},
   "outputs": [],
   "source": [
    "def readAudios(path):    \n",
    "    samplerate, data = wavfile.read(path)\n",
    "    return samplerate, data"
   ]
  },
  {
   "cell_type": "code",
   "execution_count": 28,
   "metadata": {},
   "outputs": [],
   "source": [
    "def log_specgram(data, sample_rate, window_size=20,\n",
    "                 step_size=10, eps=1e-10):\n",
    "    nperseg = int(round(window_size * sample_rate / 1e3))\n",
    "    noverlap = int(round(step_size * sample_rate / 1e3))\n",
    "    #t Array of segment times.\n",
    "    freqs,t, spec = signal.spectrogram(data,\n",
    "                                    fs=sample_rate,\n",
    "                                    window='hann',\n",
    "                                    nperseg=nperseg,\n",
    "                                    noverlap=noverlap,\n",
    "                                    detrend=False)\n",
    "    return freqs, np.log(spec.T.astype(np.float32) + eps)"
   ]
  },
  {
   "cell_type": "code",
   "execution_count": 223,
   "metadata": {},
   "outputs": [],
   "source": [
    "#Retorna array 2 filas y num_columns*num_rows en la primera columna esta la media del bloque y en la segunda la std\n",
    "def split_blocks(num_rows, num_columns, spectogram):\n",
    "    features = np.zeros((2,num_columns*num_rows))\n",
    "    featuresColumns = np.split(spectogram,[num_columns])\n",
    "    featuresColumns = np.array_split(x, num_columns,1)\n",
    "    cont = 0\n",
    "    for i in range(len(featuresColumns)):\n",
    "        featureRow= np.array_split(featuresColumns[i], num_rows,0) \n",
    "        for j in range(len(featureRow)):\n",
    "            features[0][cont]=(np.mean(featureRow[j]))\n",
    "            features[1][cont]=(np.std(featureRow[j]))\n",
    "            cont = cont +1\n",
    "    return features #fila con el numero carácteristicas con la media y std"
   ]
  },
  {
   "cell_type": "code",
   "execution_count": 224,
   "metadata": {},
   "outputs": [],
   "source": [
    "def get_features_audio(path, num_rows, num_columns):\n",
    "    sample_rate, data = readAudios(path)\n",
    "    freqs, spectogram = log_specgram(data, sample_rate)\n",
    "    features = split_blocks(num_rows, num_columns, spectogram)\n",
    "    return features\n",
    "    "
   ]
  },
  {
   "cell_type": "code",
   "execution_count": 136,
   "metadata": {},
   "outputs": [
    {
     "name": "stdout",
     "output_type": "stream",
     "text": [
      "Tracks (97, 161)\n"
     ]
    }
   ],
   "source": [
    "tracks = [\"./data/five/0ab3b47d_nohash_2.wav\"]\n",
    "for track in tracks:\n",
    "    sample_rate, data = readAudios(track)\n",
    "    freqs, spectogram = log_specgram(data, sample_rate)\n",
    "    print(\"Tracks\", spectogram.shape)"
   ]
  },
  {
   "cell_type": "code",
   "execution_count": 239,
   "metadata": {},
   "outputs": [
    {
     "name": "stdout",
     "output_type": "stream",
     "text": [
      "[[0.40354974 0.3240469  0.72919817 0.67114547 0.55066568 0.69695338\n",
      "  0.46587599 0.27403153 0.19659035 0.47712884 0.9155578  0.44831144\n",
      "  0.2638911  0.52586737 0.5101367  0.38025404 0.49171471 0.10852465\n",
      "  0.72211618 0.25329702 0.83983018 0.47526119 0.56625264 0.31339627\n",
      "  0.15170186 0.69107206 0.48470841 0.67965446 0.41770556 0.32420602\n",
      "  0.28757273 0.51376351 0.20485005 0.26938964 0.67734924 0.11706267\n",
      "  0.61818135 0.82906777 0.18022102 0.77951871 0.54400098 0.05925482\n",
      "  0.89120741 0.80170043 0.59166326 0.79449814 0.7872091  0.86706551\n",
      "  0.28008935 0.86995975 0.54716857 0.74805187 0.50024709 0.16982355\n",
      "  0.70763651 0.79423388 0.4891853  0.78844746 0.36500779 0.50680583\n",
      "  0.8909416  0.12765875 0.58692624 0.81536596 0.13495449 0.83850628\n",
      "  0.4374018  0.0215857  0.13278166 0.07704332 0.45920548 0.32315971]\n",
      " [0.23612981 0.19418122 0.03778567 0.09309314 0.36236451 0.28882646\n",
      "  0.0292934  0.11160466 0.06293783 0.30475996 0.07622606 0.3685598\n",
      "  0.21027559 0.05163382 0.43990708 0.31411408 0.25915359 0.00239857\n",
      "  0.08229126 0.05212813 0.03757821 0.08012434 0.29919672 0.18709212\n",
      "  0.13731924 0.18717921 0.19977246 0.16017233 0.1766174  0.31102905\n",
      "  0.06633627 0.29545513 0.07162379 0.25520587 0.17773629 0.05520646\n",
      "  0.37907492 0.04562033 0.04867501 0.12953436 0.04976929 0.01041292\n",
      "  0.01769193 0.18111856 0.24402756 0.10995653 0.0972808  0.0523991\n",
      "  0.01158959 0.12185938 0.09585918 0.13169277 0.065496   0.1326906\n",
      "  0.08347963 0.03165966 0.35370304 0.06601578 0.3641769  0.20658833\n",
      "  0.06085178 0.12050223 0.30950629 0.07203632 0.         0.\n",
      "  0.         0.         0.         0.         0.         0.        ]]\n"
     ]
    }
   ],
   "source": [
    "PATHTEST = 'data/five/0ab3b47d_nohash_2.wav'\n",
    "features = get_features_audio(PATHTEST, 9, 8)\n",
    "\n",
    "print(features)"
   ]
  },
  {
   "cell_type": "code",
   "execution_count": null,
   "metadata": {},
   "outputs": [],
   "source": []
  }
 ],
 "metadata": {
  "kernelspec": {
   "display_name": "Python 3",
   "language": "python",
   "name": "python3"
  },
  "language_info": {
   "codemirror_mode": {
    "name": "ipython",
    "version": 3
   },
   "file_extension": ".py",
   "mimetype": "text/x-python",
   "name": "python",
   "nbconvert_exporter": "python",
   "pygments_lexer": "ipython3",
   "version": "3.7.3"
  }
 },
 "nbformat": 4,
 "nbformat_minor": 2
}
