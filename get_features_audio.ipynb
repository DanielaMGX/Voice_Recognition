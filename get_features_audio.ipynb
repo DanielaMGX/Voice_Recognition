{
 "cells": [
  {
   "cell_type": "code",
   "execution_count": 10,
   "metadata": {},
   "outputs": [],
   "source": [
    "import IPython\n",
    "import matplotlib.pyplot as plt\n",
    "from matplotlib.backend_bases import RendererBase\n",
    "from scipy import signal\n",
    "from scipy.io import wavfile\n",
    "#import soundfile as sf\n",
    "import os\n",
    "import numpy as np\n",
    "from PIL import Image\n",
    "from scipy.fftpack import fft\n",
    "\n",
    "%matplotlib inline"
   ]
  },
  {
   "cell_type": "code",
   "execution_count": 11,
   "metadata": {},
   "outputs": [],
   "source": [
    "def readAudios(path):    \n",
    "    samplerate, data = wavfile.read(path)\n",
    "    return sample_rate, data"
   ]
  },
  {
   "cell_type": "code",
   "execution_count": 16,
   "metadata": {},
   "outputs": [],
   "source": [
    "def log_specgram(data, sample_rate, window_size=20,\n",
    "                 step_size=10, eps=1e-10):\n",
    "    nperseg = int(round(window_size * sample_rate / 1e3))\n",
    "    noverlap = int(round(step_size * sample_rate / 1e3))\n",
    "    #t Array of segment times.\n",
    "    freqs,t, spec = signal.spectrogram(data,\n",
    "                                    fs=sample_rate,\n",
    "                                    window='hann',\n",
    "                                    nperseg=nperseg,\n",
    "                                    noverlap=noverlap,\n",
    "                                    detrend=False)\n",
    "    return freqs, np.log(spec.T.astype(np.float32) + eps)"
   ]
  },
  {
   "cell_type": "code",
   "execution_count": 17,
   "metadata": {},
   "outputs": [],
   "source": [
    "def split_blocks(num_rows, num_columns, spectogram):\n",
    "    features = np.zeros((1,num_columns*num_rows))\n",
    "    \n",
    "    return features #fila con el numero carácteristicas con la media y std"
   ]
  },
  {
   "cell_type": "code",
   "execution_count": 18,
   "metadata": {},
   "outputs": [],
   "source": [
    "def get_features_audio(path, num_rows, num_columns):\n",
    "    sample_rate, data = readAudios(path)\n",
    "    freqs, spectogram = log_specgram(data, sample_rate)\n",
    "    features = split_blocks(num_rows, num_colums, spectogram)\n",
    "    return features\n",
    "    "
   ]
  },
  {
   "cell_type": "code",
   "execution_count": 20,
   "metadata": {},
   "outputs": [
    {
     "name": "stdout",
     "output_type": "stream",
     "text": [
      "Tracks (97, 161)\n",
      "Tracks (99, 161)\n",
      "Tracks (99, 161)\n",
      "Tracks (99, 161)\n",
      "Tracks (99, 161)\n"
     ]
    }
   ],
   "source": [
    "tracks = [\"data/five/0ab3b47d_nohash_2.wav\",\"data/five/0b7ee1a0_nohash_0.wav\",\"data/five/0ba018fc_nohash_2.wav\",\"data/five/0ea0e2f4_nohash_0.wav\",\"data/five/1a892463_nohash_2.wav\"]\n",
    "for track in tracks:\n",
    "    sample_rate, data = readAudios(track)\n",
    "    freqs, spectogram = log_specgram(data, sample_rate)\n",
    "    print(\"Tracks\", spectogram.shape)"
   ]
  },
  {
   "cell_type": "code",
   "execution_count": null,
   "metadata": {},
   "outputs": [],
   "source": []
  },
  {
   "cell_type": "code",
   "execution_count": null,
   "metadata": {},
   "outputs": [],
   "source": []
  }
 ],
 "metadata": {
  "kernelspec": {
   "display_name": "Python 3",
   "language": "python",
   "name": "python3"
  },
  "language_info": {
   "codemirror_mode": {
    "name": "ipython",
    "version": 3
   },
   "file_extension": ".py",
   "mimetype": "text/x-python",
   "name": "python",
   "nbconvert_exporter": "python",
   "pygments_lexer": "ipython3",
   "version": "3.7.2"
  }
 },
 "nbformat": 4,
 "nbformat_minor": 2
}
