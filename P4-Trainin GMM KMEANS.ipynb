{
 "cells": [
  {
   "cell_type": "code",
   "execution_count": 4,
   "metadata": {},
   "outputs": [],
   "source": [
    "import IPython\n",
    "import matplotlib.pyplot as plt\n",
    "import numpy as np\n",
    "import pandas as pd\n",
    "from sklearn.model_selection import GroupKFold\n",
    "%matplotlib inline"
   ]
  },
  {
   "cell_type": "markdown",
   "metadata": {},
   "source": [
    "### Leer datos"
   ]
  },
  {
   "cell_type": "code",
   "execution_count": 36,
   "metadata": {},
   "outputs": [],
   "source": [
    "PATHDATA = 'audiosData.csv'\n",
    "data = pd.read_csv(PATHDATA)\n",
    "data = data.values #Convertimos en un  numpy array"
   ]
  },
  {
   "cell_type": "markdown",
   "metadata": {},
   "source": [
    "### Dividir el dataset usando GroupKFold"
   ]
  },
  {
   "cell_type": "code",
   "execution_count": 80,
   "metadata": {},
   "outputs": [
    {
     "name": "stdout",
     "output_type": "stream",
     "text": [
      "Tamaño dataSet (5199, 162)\n",
      "\n",
      "\n",
      "FOLD 0 TRAIN: (4852,) TEST: (347,)\n",
      "FOLD 1 TRAIN: (4852,) TEST: (347,)\n",
      "FOLD 2 TRAIN: (4852,) TEST: (347,)\n",
      "FOLD 3 TRAIN: (4852,) TEST: (347,)\n",
      "FOLD 4 TRAIN: (4852,) TEST: (347,)\n",
      "FOLD 5 TRAIN: (4852,) TEST: (347,)\n",
      "FOLD 6 TRAIN: (4852,) TEST: (347,)\n",
      "FOLD 7 TRAIN: (4852,) TEST: (347,)\n",
      "FOLD 8 TRAIN: (4852,) TEST: (347,)\n",
      "FOLD 9 TRAIN: (4853,) TEST: (346,)\n",
      "FOLD 10 TRAIN: (4853,) TEST: (346,)\n",
      "FOLD 11 TRAIN: (4853,) TEST: (346,)\n",
      "FOLD 12 TRAIN: (4853,) TEST: (346,)\n",
      "FOLD 13 TRAIN: (4853,) TEST: (346,)\n",
      "FOLD 14 TRAIN: (4853,) TEST: (346,)\n"
     ]
    }
   ],
   "source": [
    "from sklearn.model_selection import GroupKFold\n",
    "FOLDS = 15\n",
    "X = data[:,0:-2]\n",
    "Y = data[:,-1]\n",
    "print('Tamaño dataSet', X.shape)\n",
    "print('\\n')\n",
    "Y=  np.reshape(Y,(np.size(Y,0),1))\n",
    "groups = data[:,-2:-1]\n",
    "group_kfold = GroupKFold(n_splits=FOLDS)\n",
    "group_kfold.get_n_splits(X, Y, groups)\n",
    "cont = 0\n",
    "for train_index, test_index in group_kfold.split(X, Y, groups):\n",
    "    print('FOLD',cont,\"TRAIN:\", train_index.shape, \"TEST:\", test_index.shape)\n",
    "    X_train, X_test = X[train_index], X[test_index]\n",
    "    Y_train, Y_test = Y[train_index], Y[test_index]    \n",
    "    cont= cont +1"
   ]
  },
  {
   "cell_type": "markdown",
   "metadata": {},
   "source": [
    "### GMM"
   ]
  },
  {
   "cell_type": "code",
   "execution_count": null,
   "metadata": {},
   "outputs": [],
   "source": [
    "\n",
    "\n",
    "for train_index, test_index in group_kfold.split(X, Y, groups):\n",
    "    print('FOLD',cont,\"TRAIN:\", train_index.shape, \"TEST:\", test_index.shape)\n",
    "    X_train, X_test = X[train_index], X[test_index]\n",
    "    Y_train, Y_test = Y[train_index], Y[test_index]    \n",
    "    cont= cont +1"
   ]
  }
 ],
 "metadata": {
  "kernelspec": {
   "display_name": "Python 3",
   "language": "python",
   "name": "python3"
  },
  "language_info": {
   "codemirror_mode": {
    "name": "ipython",
    "version": 3
   },
   "file_extension": ".py",
   "mimetype": "text/x-python",
   "name": "python",
   "nbconvert_exporter": "python",
   "pygments_lexer": "ipython3",
   "version": "3.7.3"
  }
 },
 "nbformat": 4,
 "nbformat_minor": 2
}
