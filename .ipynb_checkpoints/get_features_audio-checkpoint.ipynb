{
 "cells": [
  {
   "cell_type": "code",
   "execution_count": 26,
   "metadata": {},
   "outputs": [],
   "source": [
    "import IPython\n",
    "import matplotlib.pyplot as plt\n",
    "from matplotlib.backend_bases import RendererBase\n",
    "from scipy import signal\n",
    "from scipy.io import wavfile\n",
    "#import soundfile as sf\n",
    "import os\n",
    "import numpy as np\n",
    "from PIL import Image\n",
    "from scipy.fftpack import fft\n",
    "\n",
    "%matplotlib inline"
   ]
  },
  {
   "cell_type": "code",
   "execution_count": 27,
   "metadata": {},
   "outputs": [],
   "source": [
    "def readAudios(path):    \n",
    "    samplerate, data = wavfile.read(path)\n",
    "    return samplerate, data"
   ]
  },
  {
   "cell_type": "code",
   "execution_count": 28,
   "metadata": {},
   "outputs": [],
   "source": [
    "def log_specgram(data, sample_rate, window_size=20,\n",
    "                 step_size=10, eps=1e-10):\n",
    "    nperseg = int(round(window_size * sample_rate / 1e3))\n",
    "    noverlap = int(round(step_size * sample_rate / 1e3))\n",
    "    #t Array of segment times.\n",
    "    freqs,t, spec = signal.spectrogram(data,\n",
    "                                    fs=sample_rate,\n",
    "                                    window='hann',\n",
    "                                    nperseg=nperseg,\n",
    "                                    noverlap=noverlap,\n",
    "                                    detrend=False)\n",
    "    return freqs, np.log(spec.T.astype(np.float32) + eps)"
   ]
  },
  {
   "cell_type": "code",
   "execution_count": 223,
   "metadata": {},
   "outputs": [],
   "source": [
    "#Retorna array 2 filas y num_columns*num_rows en la primera columna esta la media del bloque y en la segunda la std\n",
    "def split_blocks(num_rows, num_columns, spectogram):\n",
    "    features = np.zeros((2,num_columns*num_rows))\n",
    "    featuresColumns = np.split(spectogram,[num_columns])\n",
    "    featuresColumns = np.array_split(x, num_columns,1)\n",
    "    cont = 0\n",
    "    for i in range(len(featuresColumns)):\n",
    "        featureRow= np.array_split(featuresColumns[i], num_rows,0) \n",
    "        for j in range(len(featureRow)):\n",
    "            features[0][cont]=(np.mean(featureRow[j]))\n",
    "            features[1][cont]=(np.std(featureRow[j]))\n",
    "            cont = cont +1\n",
    "    return features #fila con el numero carácteristicas con la media y std"
   ]
  },
  {
   "cell_type": "code",
   "execution_count": 224,
   "metadata": {},
   "outputs": [],
   "source": [
    "def get_features_audio(path, num_rows, num_columns):\n",
    "    sample_rate, data = readAudios(path)\n",
    "    freqs, spectogram = log_specgram(data, sample_rate)\n",
    "    features = split_blocks(num_rows, num_columns, spectogram)\n",
    "    return features\n",
    "    "
   ]
  },
  {
   "cell_type": "code",
   "execution_count": 136,
   "metadata": {},
   "outputs": [
    {
     "name": "stdout",
     "output_type": "stream",
     "text": [
      "Tracks (97, 161)\n"
     ]
    }
   ],
   "source": [
    "tracks = [\"./data/five/0ab3b47d_nohash_2.wav\"]\n",
    "for track in tracks:\n",
    "    sample_rate, data = readAudios(track)\n",
    "    freqs, spectogram = log_specgram(data, sample_rate)\n",
    "    print(\"Tracks\", spectogram.shape)"
   ]
  },
  {
   "cell_type": "code",
   "execution_count": 241,
   "metadata": {},
   "outputs": [
    {
     "name": "stdout",
     "output_type": "stream",
     "text": [
      "(2, 63)\n"
     ]
    }
   ],
   "source": [
    "PATHTEST = 'data/five/0ab3b47d_nohash_2.wav'\n",
    "features = get_features_audio(PATHTEST, 9, 7)\n",
    "print(features.shape)"
   ]
  },
  {
   "cell_type": "code",
   "execution_count": null,
   "metadata": {},
   "outputs": [],
   "source": []
  }
 ],
 "metadata": {
  "kernelspec": {
   "display_name": "Python 3",
   "language": "python",
   "name": "python3"
  },
  "language_info": {
   "codemirror_mode": {
    "name": "ipython",
    "version": 3
   },
   "file_extension": ".py",
   "mimetype": "text/x-python",
   "name": "python",
   "nbconvert_exporter": "python",
   "pygments_lexer": "ipython3",
   "version": "3.7.3"
  }
 },
 "nbformat": 4,
 "nbformat_minor": 2
}
